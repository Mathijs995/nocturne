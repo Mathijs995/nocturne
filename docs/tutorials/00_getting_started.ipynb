{
 "cells": [
  {
   "attachments": {},
   "cell_type": "markdown",
   "metadata": {},
   "source": [
    "## 00. Getting Started with `nocturne`: a 2D Partially Observed Driving Simulator"
   ]
  },
  {
   "attachments": {},
   "cell_type": "markdown",
   "metadata": {},
   "source": [
    "### What is Nocturne?\n",
    "\n",
    "\n",
    "Nocturne is a 2D, partially observed, driving simulator, built in C++ for speed and exported as a Python library. It is currently designed to handle traffic scenarios from the [Waymo Open Dataset](https://github.com/waymo-research/waymo-open-dataset), a large-scale public dataset for autonomous driving research, released by Waymo. \n",
    "\n",
    "The package is currently optimized for working with the Waymo Open Dataset and its data structure. However, with some modifications, nocturne could be extended to support different driving datasets.\n"
   ]
  },
  {
   "attachments": {},
   "cell_type": "markdown",
   "metadata": {},
   "source": [
    "### Learn how to use Nocturne\n",
    "\n",
    "In the following chapters, you will learn [how to set up Nocturne]() and discover the [key Nocturne concepts](). You can then review the [imitation learning]() tutorial to get hands-on experience with the package."
   ]
  },
  {
   "attachments": {},
   "cell_type": "markdown",
   "metadata": {},
   "source": [
    "### Assumptions\n",
    "\n",
    "`#TODO`"
   ]
  },
  {
   "cell_type": "code",
   "execution_count": null,
   "metadata": {},
   "outputs": [],
   "source": []
  },
  {
   "cell_type": "code",
   "execution_count": null,
   "metadata": {},
   "outputs": [],
   "source": []
  }
 ],
 "metadata": {
  "kernelspec": {
   "display_name": "nocturne-research",
   "language": "python",
   "name": "python3"
  },
  "language_info": {
   "codemirror_mode": {
    "name": "ipython",
    "version": 3
   },
   "file_extension": ".py",
   "mimetype": "text/x-python",
   "name": "python",
   "nbconvert_exporter": "python",
   "pygments_lexer": "ipython3",
   "version": "3.8.16"
  },
  "orig_nbformat": 4
 },
 "nbformat": 4,
 "nbformat_minor": 2
}
